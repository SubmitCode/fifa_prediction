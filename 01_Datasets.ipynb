{
  "nbformat": 4,
  "nbformat_minor": 0,
  "metadata": {
    "colab": {
      "name": "Copy of Datasets_part1.ipynb",
      "version": "0.3.2",
      "provenance": []
    },
    "kernelspec": {
      "display_name": "Python 3",
      "language": "python",
      "name": "python3"
    }
  },
  "cells": [
    {
      "cell_type": "markdown",
      "metadata": {
        "id": "view-in-github",
        "colab_type": "text"
      },
      "source": [
        "[View in Colaboratory](https://colab.research.google.com/github/SubmitCode/fifa_prediction/blob/master/01_Datasets.ipynb)"
      ]
    },
    {
      "metadata": {
        "id": "oNVgaXG2gwpq",
        "colab_type": "text"
      },
      "cell_type": "markdown",
      "source": [
        "# Fussball WM und Data Science\n",
        "\n",
        "## Intro\n",
        "Ix und Px haben ja eine Tippgruppe bei fifawmtippspiel.srf.ch . Persönlich bin ich ja nicht der grösste Fussballfan. Dennoch dachte ich, dies ist eine gute Gelegenheit das Verständnis für Data Science und auch die \"Lust\" auf Data Science bei Inventx zu schüren :-) Zudem werdet ihr sehen wie einfach heutzutage Data Science ist.  Natürlich wäre es auch super wenn unser Tippgruppe die beste wäre. \n",
        "\n",
        "In den folgenden Posts werde ich euch immer mal wieder interessante Fakten und Daten präsentieren. Alle sind eingeladen das bestehende Notebook zu erweitern bzw. eine Kopie davon zu erstellen und zu experementieren.\n",
        "\n",
        "\n",
        "## Setup\n"
      ]
    },
    {
      "metadata": {
        "id": "VorWpQUMgwps",
        "colab_type": "code",
        "colab": {}
      },
      "cell_type": "code",
      "source": [
        ""
      ],
      "execution_count": 0,
      "outputs": []
    }
  ]
}