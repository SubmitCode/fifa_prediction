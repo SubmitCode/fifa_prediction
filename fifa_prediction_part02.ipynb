{
  "nbformat": 4,
  "nbformat_minor": 0,
  "metadata": {
    "colab": {
      "name": "fifa_prediction_part02.ipynb",
      "version": "0.3.2",
      "provenance": [],
      "collapsed_sections": [],
      "toc_visible": true
    },
    "kernelspec": {
      "name": "python3",
      "display_name": "Python 3"
    }
  },
  "cells": [
    {
      "cell_type": "markdown",
      "metadata": {
        "id": "view-in-github",
        "colab_type": "text"
      },
      "source": [
        "[View in Colaboratory](https://colab.research.google.com/github/SubmitCode/fifa_prediction/blob/master/fifa_prediction_part02.ipynb)"
      ]
    },
    {
      "metadata": {
        "id": "PGhbLuAsKHAT",
        "colab_type": "text"
      },
      "cell_type": "markdown",
      "source": [
        "# Part 2: Estimator\n"
      ]
    },
    {
      "metadata": {
        "id": "7kvLvXb7cE1X",
        "colab_type": "text"
      },
      "cell_type": "markdown",
      "source": [
        "# Summary\n",
        "Wie versprochen geht's jetzt ans eingemachte. Was besonders interessant ist, dass meine Ergebnisse teilweise start von den [Wetten bei Oddschecker](https://www.oddschecker.com/football/world-cup/winner) abweichen. Bitte berücksichtigen, dass es sich hier um einen Showcase handelt. Also bitte die Ergebnisse mit Vorsicht geniessen.  \n",
        "\n",
        "Was mir besonders aufgefallen ist, laut meiner Statistik ist ....\n",
        "- Schweiz wird gegen Deutschland antreten \n",
        "- Dänemark kann sehr weit kommen.\n",
        "- Argentinien wird früh Ausscheiden. \n",
        "\n",
        "Wer gleich zum Ergebnis will bitte einfach runter Scrollen.\n",
        "\n",
        "\n",
        "Besonders möchte ich [Dr. James Bond](https://www.kaggle.com/agostontorok/soccer-world-cup-2018-winner) danken. Sein Code diente in vielen Teilen als Inspiration."
      ]
    },
    {
      "metadata": {
        "id": "NGu9fqbsKPvc",
        "colab_type": "text"
      },
      "cell_type": "markdown",
      "source": [
        "\n",
        "\n",
        "\n",
        "# Data\n",
        "- __FIFA Soccer Rankings__ Infos über die Rankingmehthode findet ihr [hier](https://en.wikipedia.org/wiki/FIFA_World_Rankings). Diese Daten wurden von der [Tadhg Fitzgerald](https://www.kaggle.com/tadhgfitzgerald/fifa-international-soccer-mens-ranking-1993now) extrahiert. \n",
        "- __FIFA World Cup__ [Andre Becklas](https://www.kaggle.com/abecklas/fifa-world-cup/data) hat folgende 3 Dateien bereitgestellt\n",
        "  - WorldCupMatches.csv alle WM Matches seit 1930\n",
        "  - WorldCupPlayers.csv alle WM Spieler \n",
        "  - WorldCups.csv. Zusammenfassung aller Fussball WM's\n",
        "- __International football results from 1872 to 2018__ [Mart Jürisoo\n",
        "](https://www.kaggle.com/martj42/international-football-results-from-1872-to-2017/data) hat die Daten freundlicherweise zu Verfügung gestellt. \n",
        "  - results.csv\n",
        "  \n",
        "  Special thanks to  [Dr. James Bond](https://www.kaggle.com/agostontorok/soccer-world-cup-2018-winner). Ich werde seine Codes teilweise übernehmen und ggf. anpassen.\n",
        "  \n",
        "  \n",
        "  \n",
        " "
      ]
    },
    {
      "metadata": {
        "id": "EcjfBeMYLf-1",
        "colab_type": "text"
      },
      "cell_type": "markdown",
      "source": [
        "# Vorgehen\n",
        "Grundsätzlich nehmen wir alle unsere Länderspiele und versuchen anhand des Ranges, Punkte etc. vorherzusagen welche Mannschaft gewinnen wird. \n",
        "Data Science besteht zu 80% Data preparation. Deshalb gehen wir folgendermassen vor:\n",
        "- __Setup:__ Downlaod der Daten \n",
        "- __Data preparation__ \n",
        "- __Feature engineering:__\n",
        "- __create model:__ hierbei werden wir mit einer einfachen logistischen Regression beginnen. Keine Angst [logistische Regression](https://en.wikipedia.org/wiki/Logistic_regression) bedeutet nichts anderes als, dass das Ergebnis unserer Gleichung entweder 0 oder 1 ist. Dadurch kann das Ergebniss auch als Wahrscheinlichkeit betrachtet werden. Logistische Regression eignet sich vor allem weil auch bei den Fussballspielen nur 2 mögliche Outcomes gibt (na gut es gibt drei, wenn wir Unentschieden mit berücksichtigen).\n",
        "- __Modelierung__\n",
        "- __Simulation__"
      ]
    },
    {
      "metadata": {
        "id": "1Ybf7mMiNdum",
        "colab_type": "text"
      },
      "cell_type": "markdown",
      "source": [
        "## Setup"
      ]
    },
    {
      "metadata": {
        "id": "AszsBRgFKXnm",
        "colab_type": "code",
        "colab": {}
      },
      "cell_type": "code",
      "source": [
        "# import von den libraries die wir für die Berechnungen und Visualisierungen \n",
        "# benötigen\n",
        "import numpy as np\n",
        "import pandas as pd\n",
        "import matplotlib.pyplot as plt\n",
        "import os.path"
      ],
      "execution_count": 0,
      "outputs": []
    },
    {
      "metadata": {
        "id": "K0OlzKUENhE9",
        "colab_type": "code",
        "colab": {}
      },
      "cell_type": "code",
      "source": [
        "'''\n",
        "Downlaod the data from my Github page\n",
        "'''\n",
        "\n",
        "link_src = \"https://github.com/SubmitCode/fifa_prediction/raw/master/data/\"\n",
        "\n",
        "# rankings\n",
        "linkSoccerRankings = \"FIFASoccerRankings/fifa_ranking.csv\" \n",
        "data_ranking = pd.read_csv(os.path.join(link_src,linkSoccerRankings))\n",
        "\n",
        "\n",
        "# international football results\n",
        "linkinterantionalFootballResults = \"internationalFootballResults/interantionalFootballResults.csv\" \n",
        "data_interantionalFootballResults = pd.read_csv(os.path.join(link_src,linkinterantionalFootballResults))\n",
        "\n",
        "\n",
        "# fifa world cup 2018\n",
        "linkWorldCup2018 = \"fifaWorldCup2018/WorldCup2018.csv\" \n",
        "data_WorldCup2018 = pd.read_csv(os.path.join(link_src,linkWorldCup2018))\n"
      ],
      "execution_count": 0,
      "outputs": []
    },
    {
      "metadata": {
        "id": "H1thSlfPNPVs",
        "colab_type": "text"
      },
      "cell_type": "markdown",
      "source": [
        "## Data preparation\n",
        "\n",
        "Im folgenden Teil werden wir die Ländernamen an den Standard anpassen, sodass wir die Daten miteinander verknüpfen können. "
      ]
    },
    {
      "metadata": {
        "id": "0YGnNWxNKGEp",
        "colab_type": "code",
        "colab": {}
      },
      "cell_type": "code",
      "source": [
        "# dieser Code braucht relative lange zum Ausführen. Deshalb ist jetzt Zeit für \n",
        "# einen Kaffee :-)\n",
        "\n",
        "\n",
        "# hier nehmen wir die notwendigen columns raus und ignorieren die anderen \n",
        "rankings = data_ranking.loc[:,['rank', 'country_full', 'country_abrv', 'cur_year_avg_weighted', 'rank_date', \n",
        "                           'two_year_ago_weighted', 'three_year_ago_weighted']] \n",
        "\n",
        "\n",
        "rankings = rankings.replace({\"IR Iran\": \"Iran\"})# wir benennen Iran um damit dieses Land dem Standardt entspricht\n",
        "rankings['weighted_points'] =  rankings['cur_year_avg_weighted'] \\\n",
        "    + rankings['two_year_ago_weighted']\\\n",
        "    + rankings['three_year_ago_weighted'] # die summe von drei Durchschnitten, dadurch sollte das Ergebnis robuster sein\n",
        "rankings['rank_date'] = pd.to_datetime(rankings['rank_date'])\n",
        "\n",
        "\n",
        "matches =  data_interantionalFootballResults.replace({'Germany DR': 'Germany', 'China': 'China PR'})\n",
        "matches['date'] = pd.to_datetime(matches['date'])\n",
        "\n",
        "world_cup = data_WorldCup2018.loc[:, ['Team', 'Group', 'First match \\nagainst', 'Second match\\n against', 'Third match\\n against']]\n",
        "world_cup = world_cup.dropna(how='all')\n",
        "world_cup = world_cup.replace({\"IRAN\": \"Iran\", \n",
        "                               \"Costarica\": \"Costa Rica\", \n",
        "                               \"Porugal\": \"Portugal\", \n",
        "                               \"Columbia\": \"Colombia\", \n",
        "                               \"Korea\" : \"Korea Republic\"})\n",
        "world_cup = world_cup.set_index('Team') # dadurch finden wir die richtige Zeile anhand des Teams\n"
      ],
      "execution_count": 0,
      "outputs": []
    },
    {
      "metadata": {
        "id": "ZYT76E8SPNZh",
        "colab_type": "text"
      },
      "cell_type": "markdown",
      "source": [
        "## Feature engineering\n"
      ]
    },
    {
      "metadata": {
        "id": "B5Ouv5CLPWTG",
        "colab_type": "code",
        "colab": {}
      },
      "cell_type": "code",
      "source": [
        "# hier erweitern wir die Rankingstabelle sodass wir jeden Tag einen Eintrag haben\n",
        "# dies ist insofern wicht, da das rank_date und das date von den matches nicht\n",
        "# übereinstimmen. Um die beiden Tabellen zu vereinigen, erweitern wir die \n",
        "# rankings Tabelle, sodass wir jeden Tag einen Eintrag haben. Wenn an einem Tag\n",
        "# kein Wert vorhanden ist, nehmen wir den Wert vom Vortag (fill forward)\n",
        "rankings = rankings.set_index(['rank_date'])\\\n",
        "            .groupby(['country_full'], group_keys=False)\\\n",
        "            .resample('D').first()\\\n",
        "            .fillna(method='ffill')\\\n",
        "            .reset_index()\n",
        "\n",
        "# jetzt joinen wir die matches mit den rankings von dem jeweiligen Team \n",
        "matches = matches.merge(rankings, \n",
        "                        left_on=['date', 'home_team'], \n",
        "                        right_on=['rank_date', 'country_full'])\n",
        "matches = matches.merge(rankings, \n",
        "                        left_on=['date', 'away_team'], \n",
        "                        right_on=['rank_date', 'country_full'], \n",
        "                        suffixes=('_home', '_away'))\n",
        "\n"
      ],
      "execution_count": 0,
      "outputs": []
    },
    {
      "metadata": {
        "id": "stdzH_EtWd30",
        "colab_type": "code",
        "colab": {
          "base_uri": "https://localhost:8080/",
          "height": 901
        },
        "outputId": "86cd529b-e7ae-49b7-cd1d-ea1291257e03"
      },
      "cell_type": "code",
      "source": [
        "\n",
        "t_rankings = rankings\n",
        "print(matches.tail())\n",
        "print(matches.columns)"
      ],
      "execution_count": 19,
      "outputs": [
        {
          "output_type": "stream",
          "text": [
            "            date       home_team    away_team  home_score  away_score  \\\n",
            "18474 2018-06-07         Uruguay   Uzbekistan           3           0   \n",
            "18475 2018-06-07        Portugal      Algeria           3           0   \n",
            "18476 2018-06-07  Korea Republic      Bolivia           0           0   \n",
            "18477 2018-06-07         Iceland        Ghana           2           2   \n",
            "18478 2018-06-07           India  New Zealand           1           2   \n",
            "\n",
            "      tournament        city   country  neutral rank_date_home  \\\n",
            "18474   Friendly  Montevideo   Uruguay    False     2018-06-07   \n",
            "18475   Friendly      Lisbon  Portugal    False     2018-06-07   \n",
            "18476   Friendly   Innsbruck   Austria     True     2018-06-07   \n",
            "18477   Friendly   Reykjavík   Iceland    False     2018-06-07   \n",
            "18478   Friendly      Mumbai     India    False     2018-06-07   \n",
            "\n",
            "              ...           three_year_ago_weighted_home weighted_points_home  \\\n",
            "18474         ...                                 119.85               774.57   \n",
            "18475         ...                                 125.53               927.78   \n",
            "18476         ...                                  65.96               319.88   \n",
            "18477         ...                                  96.64               625.89   \n",
            "18478         ...                                  17.00               238.74   \n",
            "\n",
            "      rank_date_away  rank_away  country_full_away  country_abrv_away  \\\n",
            "18474     2018-06-07       95.0         Uzbekistan                UZB   \n",
            "18475     2018-06-07       66.0            Algeria                ALG   \n",
            "18476     2018-06-07       59.0            Bolivia                BOL   \n",
            "18477     2018-06-07       47.0              Ghana                GHA   \n",
            "18478     2018-06-07      120.0        New Zealand                NZL   \n",
            "\n",
            "       cur_year_avg_weighted_away two_year_ago_weighted_away  \\\n",
            "18474                       66.85                      93.52   \n",
            "18475                      163.41                      91.40   \n",
            "18476                      291.14                      66.68   \n",
            "18477                      261.21                      99.90   \n",
            "18478                       78.58                      76.45   \n",
            "\n",
            "       three_year_ago_weighted_away weighted_points_away  \n",
            "18474                         40.74               201.11  \n",
            "18475                        101.63               356.44  \n",
            "18476                         21.32               379.14  \n",
            "18477                         92.63               453.74  \n",
            "18478                          3.81               158.84  \n",
            "\n",
            "[5 rows x 25 columns]\n",
            "Index(['date', 'home_team', 'away_team', 'home_score', 'away_score',\n",
            "       'tournament', 'city', 'country', 'neutral', 'rank_date_home',\n",
            "       'rank_home', 'country_full_home', 'country_abrv_home',\n",
            "       'cur_year_avg_weighted_home', 'two_year_ago_weighted_home',\n",
            "       'three_year_ago_weighted_home', 'weighted_points_home',\n",
            "       'rank_date_away', 'rank_away', 'country_full_away', 'country_abrv_away',\n",
            "       'cur_year_avg_weighted_away', 'two_year_ago_weighted_away',\n",
            "       'three_year_ago_weighted_away', 'weighted_points_away'],\n",
            "      dtype='object')\n"
          ],
          "name": "stdout"
        }
      ]
    },
    {
      "metadata": {
        "id": "gcKTFyRdRK3q",
        "colab_type": "code",
        "colab": {}
      },
      "cell_type": "code",
      "source": [
        "# nun definieren wir die Features\n",
        "# - rank_difference=RangManschaftMitHeimvorteil - RangMannschaftOhneHeimvorteil\n",
        "# - point_difference=PunkteMannschatMitHeimvorteil - PunkteMannschaftOhneHeimvorteil\n",
        "# - score_difference ist der Torunterschied\n",
        "# - is_won: gewonnen hat die Mannschaft mit einem positiven Torunterschied\n",
        "# - is_stake: True wenn es sich um ein Freundschaftspiel handelt\n",
        "matches['rank_difference'] = matches['rank_home'] - matches['rank_away']\n",
        "matches['point_difference'] = matches['weighted_points_home'] - matches['weighted_points_away']\n",
        "matches['score_difference'] = matches['home_score'] - matches['away_score']\n",
        "matches['is_won'] = matches['score_difference'] > 0 # take draw as lost\n",
        "matches['is_stake'] = matches['tournament'] != 'Friendly'\n",
        "\n"
      ],
      "execution_count": 0,
      "outputs": []
    },
    {
      "metadata": {
        "id": "PHm2CYEAYz9r",
        "colab_type": "code",
        "colab": {
          "base_uri": "https://localhost:8080/",
          "height": 388
        },
        "outputId": "77671bed-3e8d-4110-fbd4-1b102079c8cc"
      },
      "cell_type": "code",
      "source": [
        "matches.loc[0:5,['home_team', 'away_team', \\\n",
        "                  'weighted_points_home', 'weighted_points_away', 'point_difference',\\\n",
        "                  'rank_home', 'rank_away', 'rank_difference', \\\n",
        "                  'home_score', 'away_score', 'score_difference', \\\n",
        "                  'tournament', 'is_stake']]"
      ],
      "execution_count": 21,
      "outputs": [
        {
          "output_type": "execute_result",
          "data": {
            "text/html": [
              "<div>\n",
              "<style scoped>\n",
              "    .dataframe tbody tr th:only-of-type {\n",
              "        vertical-align: middle;\n",
              "    }\n",
              "\n",
              "    .dataframe tbody tr th {\n",
              "        vertical-align: top;\n",
              "    }\n",
              "\n",
              "    .dataframe thead th {\n",
              "        text-align: right;\n",
              "    }\n",
              "</style>\n",
              "<table border=\"1\" class=\"dataframe\">\n",
              "  <thead>\n",
              "    <tr style=\"text-align: right;\">\n",
              "      <th></th>\n",
              "      <th>home_team</th>\n",
              "      <th>away_team</th>\n",
              "      <th>weighted_points_home</th>\n",
              "      <th>weighted_points_away</th>\n",
              "      <th>point_difference</th>\n",
              "      <th>rank_home</th>\n",
              "      <th>rank_away</th>\n",
              "      <th>rank_difference</th>\n",
              "      <th>home_score</th>\n",
              "      <th>away_score</th>\n",
              "      <th>score_difference</th>\n",
              "      <th>tournament</th>\n",
              "      <th>is_stake</th>\n",
              "    </tr>\n",
              "  </thead>\n",
              "  <tbody>\n",
              "    <tr>\n",
              "      <th>0</th>\n",
              "      <td>Bolivia</td>\n",
              "      <td>Uruguay</td>\n",
              "      <td>0.0</td>\n",
              "      <td>0.0</td>\n",
              "      <td>0.0</td>\n",
              "      <td>59.0</td>\n",
              "      <td>22.0</td>\n",
              "      <td>37.0</td>\n",
              "      <td>3</td>\n",
              "      <td>1</td>\n",
              "      <td>2</td>\n",
              "      <td>FIFA World Cup qualification</td>\n",
              "      <td>True</td>\n",
              "    </tr>\n",
              "    <tr>\n",
              "      <th>1</th>\n",
              "      <td>Brazil</td>\n",
              "      <td>Mexico</td>\n",
              "      <td>0.0</td>\n",
              "      <td>0.0</td>\n",
              "      <td>0.0</td>\n",
              "      <td>8.0</td>\n",
              "      <td>14.0</td>\n",
              "      <td>-6.0</td>\n",
              "      <td>1</td>\n",
              "      <td>1</td>\n",
              "      <td>0</td>\n",
              "      <td>Friendly</td>\n",
              "      <td>False</td>\n",
              "    </tr>\n",
              "    <tr>\n",
              "      <th>2</th>\n",
              "      <td>Ecuador</td>\n",
              "      <td>Venezuela</td>\n",
              "      <td>0.0</td>\n",
              "      <td>0.0</td>\n",
              "      <td>0.0</td>\n",
              "      <td>35.0</td>\n",
              "      <td>94.0</td>\n",
              "      <td>-59.0</td>\n",
              "      <td>5</td>\n",
              "      <td>0</td>\n",
              "      <td>5</td>\n",
              "      <td>FIFA World Cup qualification</td>\n",
              "      <td>True</td>\n",
              "    </tr>\n",
              "    <tr>\n",
              "      <th>3</th>\n",
              "      <td>Guinea</td>\n",
              "      <td>Sierra Leone</td>\n",
              "      <td>0.0</td>\n",
              "      <td>0.0</td>\n",
              "      <td>0.0</td>\n",
              "      <td>65.0</td>\n",
              "      <td>86.0</td>\n",
              "      <td>-21.0</td>\n",
              "      <td>1</td>\n",
              "      <td>0</td>\n",
              "      <td>1</td>\n",
              "      <td>Friendly</td>\n",
              "      <td>False</td>\n",
              "    </tr>\n",
              "    <tr>\n",
              "      <th>4</th>\n",
              "      <td>Paraguay</td>\n",
              "      <td>Argentina</td>\n",
              "      <td>0.0</td>\n",
              "      <td>0.0</td>\n",
              "      <td>0.0</td>\n",
              "      <td>67.0</td>\n",
              "      <td>5.0</td>\n",
              "      <td>62.0</td>\n",
              "      <td>1</td>\n",
              "      <td>3</td>\n",
              "      <td>-2</td>\n",
              "      <td>FIFA World Cup qualification</td>\n",
              "      <td>True</td>\n",
              "    </tr>\n",
              "    <tr>\n",
              "      <th>5</th>\n",
              "      <td>Peru</td>\n",
              "      <td>Colombia</td>\n",
              "      <td>0.0</td>\n",
              "      <td>0.0</td>\n",
              "      <td>0.0</td>\n",
              "      <td>70.0</td>\n",
              "      <td>19.0</td>\n",
              "      <td>51.0</td>\n",
              "      <td>0</td>\n",
              "      <td>1</td>\n",
              "      <td>-1</td>\n",
              "      <td>FIFA World Cup qualification</td>\n",
              "      <td>True</td>\n",
              "    </tr>\n",
              "  </tbody>\n",
              "</table>\n",
              "</div>"
            ],
            "text/plain": [
              "  home_team     away_team  weighted_points_home  weighted_points_away  \\\n",
              "0   Bolivia       Uruguay                   0.0                   0.0   \n",
              "1    Brazil        Mexico                   0.0                   0.0   \n",
              "2   Ecuador     Venezuela                   0.0                   0.0   \n",
              "3    Guinea  Sierra Leone                   0.0                   0.0   \n",
              "4  Paraguay     Argentina                   0.0                   0.0   \n",
              "5      Peru      Colombia                   0.0                   0.0   \n",
              "\n",
              "   point_difference  rank_home  rank_away  rank_difference  home_score  \\\n",
              "0               0.0       59.0       22.0             37.0           3   \n",
              "1               0.0        8.0       14.0             -6.0           1   \n",
              "2               0.0       35.0       94.0            -59.0           5   \n",
              "3               0.0       65.0       86.0            -21.0           1   \n",
              "4               0.0       67.0        5.0             62.0           1   \n",
              "5               0.0       70.0       19.0             51.0           0   \n",
              "\n",
              "   away_score  score_difference                    tournament  is_stake  \n",
              "0           1                 2  FIFA World Cup qualification      True  \n",
              "1           1                 0                      Friendly     False  \n",
              "2           0                 5  FIFA World Cup qualification      True  \n",
              "3           0                 1                      Friendly     False  \n",
              "4           3                -2  FIFA World Cup qualification      True  \n",
              "5           1                -1  FIFA World Cup qualification      True  "
            ]
          },
          "metadata": {
            "tags": []
          },
          "execution_count": 21
        }
      ]
    },
    {
      "metadata": {
        "id": "plViNT-tPgK-",
        "colab_type": "text"
      },
      "cell_type": "markdown",
      "source": [
        "## Modeling\n",
        "\n",
        "Jetzt geht's wirklich ans eingemachte :-). Nun versuchen wir mit der sehr bekannten [scikit-learn](http://scikit-learn.org/stable/index.html) eine einfaches Model zu bauen.\n",
        "\n",
        "Vielleicht ein paar wichtige Punkte. Bei einfachen ML Modellen ist es immer sehr wichtig die Regression niemals auf die gesamten Daten zu fitten. Deshalb nehmen wir in diesem Fall einen Train-Test Split von 0.2. Das Model bekommt 80% der Daten. Die Qualität des Modelles wird allerdings anhander der 20% gemessen, welches das Model noch nicht gesehen hat.\n",
        "\n",
        "$X$ steht für die unabhängigen Variablen (unsere Features)\n",
        "$y$ sind die labels also die abhängige Variable (in unserem Fall $1$ wenn das Spiel gewonnen wurde und $0$ wenn das Spiel verloren wurde).\n",
        "\n",
        "[Hier](https://www.coursera.org/learn/machine-learning/lecture/Rqgfz/features-and-polynomial-regression) noch ein interessantes Video welches Polynomial Features erklärt. Der $C$ Parameter in der LogisticRegression regelt die sogenannte Regularization. [Hier](https://stackoverflow.com/questions/22851316/what-is-the-inverse-of-regularization-strength-in-logistic-regression-how-shoul) findet ihr ein Beschreibung."
      ]
    },
    {
      "metadata": {
        "id": "9oKeZSWGeSMx",
        "colab_type": "code",
        "colab": {}
      },
      "cell_type": "code",
      "source": [
        "import itertools\n",
        "from sklearn import linear_model\n",
        "from sklearn import ensemble\n",
        "from sklearn.model_selection import train_test_split\n",
        "from sklearn.metrics import confusion_matrix, roc_curve, roc_auc_score\n",
        "from sklearn.pipeline import Pipeline\n",
        "from sklearn.preprocessing import PolynomialFeatures\n",
        "\n",
        "\n",
        "X, y = matches.loc[:,['rank_home', 'rank_difference', 'point_difference', 'is_stake']], matches['is_won']\n",
        "X_train, X_test, y_train, y_test = train_test_split(\n",
        "    X, y, test_size=0.2, random_state=42)\n",
        "\n",
        "logreg = linear_model.LogisticRegression(C=1e-5)\n",
        "features = PolynomialFeatures(degree=2)\n",
        "model = Pipeline([\n",
        "    ('polynomial_features', features),\n",
        "    ('logistic_regression', logreg)\n",
        "])\n",
        "model = model.fit(X_train, y_train)"
      ],
      "execution_count": 0,
      "outputs": []
    },
    {
      "metadata": {
        "id": "2ye_qa0aeWHS",
        "colab_type": "code",
        "colab": {
          "base_uri": "https://localhost:8080/",
          "height": 932
        },
        "outputId": "01e3c3d4-acdc-4811-83a7-a794f5509637"
      },
      "cell_type": "code",
      "source": [
        "from sklearn.metrics import accuracy_score\n",
        "accuracy = accuracy_score(y_test, model.predict(X_test))\n",
        "print(\"Mit unserem einfachen Model erzielen wir eine Trefferquote von {}%.\"\\\n",
        "      .format(round(accuracy,3)*100))\n",
        "model.get_params('logistic_regression')\n",
        "y_pred = model.predict(X_test)\n",
        "\n",
        "def plot_confusion_matrix(cm, classes,\n",
        "                          normalize=False,\n",
        "                          title='Confusion matrix',\n",
        "                          cmap=plt.cm.Blues):\n",
        "    \"\"\"\n",
        "    from sci-kit learn website\n",
        "    \n",
        "    This function prints and plots the confusion matrix.\n",
        "    Normalization can be applied by setting `normalize=True`.\n",
        "    \"\"\"\n",
        "    if normalize:\n",
        "        cm = cm.astype('float') / cm.sum(axis=1)[:, np.newaxis]\n",
        "        print(\"Normalized confusion matrix\")\n",
        "    else:\n",
        "        print('Confusion matrix, without normalization')\n",
        "\n",
        "    print(cm)\n",
        "\n",
        "    plt.imshow(cm, interpolation='nearest', cmap=cmap)\n",
        "    plt.title(title)\n",
        "    plt.colorbar()\n",
        "    tick_marks = np.arange(len(classes))\n",
        "    plt.xticks(tick_marks, classes, rotation=45)\n",
        "    plt.yticks(tick_marks, classes)\n",
        "\n",
        "    fmt = '.2f' if normalize else 'd'\n",
        "    thresh = cm.max() / 2.\n",
        "    for i, j in itertools.product(range(cm.shape[0]), range(cm.shape[1])):\n",
        "        plt.text(j, i, format(cm[i, j], fmt),\n",
        "                 horizontalalignment=\"center\",\n",
        "                 color=\"white\" if cm[i, j] > thresh else \"black\")\n",
        "\n",
        "    plt.tight_layout()\n",
        "    plt.ylabel('True label')\n",
        "    plt.xlabel('Predicted label')\n",
        "\n",
        "# Compute confusion matrix\n",
        "class_names = [\"win\",\"loss\"]\n",
        "cnf_matrix = confusion_matrix(y_test, y_pred)\n",
        "np.set_printoptions(precision=2)\n",
        "\n",
        "# Plot non-normalized confusion matrix\n",
        "plt.figure()\n",
        "plot_confusion_matrix(cnf_matrix, classes=class_names,\n",
        "                      title='Confusion matrix, without normalization')\n",
        "\n",
        "# Plot normalized confusion matrix\n",
        "plt.figure()\n",
        "plot_confusion_matrix(cnf_matrix, classes=class_names, normalize=True,\n",
        "                      title='Normalized confusion matrix')\n",
        "\n",
        "plt.show()"
      ],
      "execution_count": 23,
      "outputs": [
        {
          "output_type": "stream",
          "text": [
            "Mit unserem einfachen Model erzielen wir eine Trefferquote von 68.2%.\n",
            "Confusion matrix, without normalization\n",
            "[[1311  597]\n",
            " [ 577 1211]]\n",
            "Normalized confusion matrix\n",
            "[[0.69 0.31]\n",
            " [0.32 0.68]]\n"
          ],
          "name": "stdout"
        },
        {
          "output_type": "display_data",
          "data": {
            "image/png": "[encoded data removed]",
            "text/plain": [
              "<matplotlib.figure.Figure at 0x7f05d8f14b38>"
            ]
          },
          "metadata": {
            "tags": []
          }
        },
        {
          "output_type": "display_data",
          "data": {
            "image/png": "[encoded data removed]",
            "text/plain": [
              "<matplotlib.figure.Figure at 0x7f05d006c710>"
            ]
          },
          "metadata": {
            "tags": []
          }
        }
      ]
    },
    {
      "metadata": {
        "id": "j2JhBKu6jEkw",
        "colab_type": "text"
      },
      "cell_type": "markdown",
      "source": [
        "Oben sehen wir ein sogennante Confusin Matrix. Die zeigt sehr schön an in wieviel % der Fälle wir richtig waren. Z.B. in 71% der Fälle prognostizierten wir die Gewinner Mannschaft, die auch tatsächlich gewonnen haben. Hingegen lagen wir bei den Verlierern nur in 65% der Fälle richtig."
      ]
    },
    {
      "metadata": {
        "id": "a7v2ljjqQVLZ",
        "colab_type": "text"
      },
      "cell_type": "markdown",
      "source": [
        "## Simulation\n",
        "Nun werden wir anhand der Gruppenspiele eine Simulation erstellen. "
      ]
    },
    {
      "metadata": {
        "id": "3O_1HcDlQXdD",
        "colab_type": "code",
        "colab": {}
      },
      "cell_type": "code",
      "source": [
        "# hier definieren wir eine margin wenn das Ergebnis kanpp wird dann gehen wir von einem\n",
        "# Unentschieden aus\n",
        "margin = 0.00\n",
        "\n",
        "# hier wählen wir die aktuellen Rankings aus der Tabelle\n",
        "world_cup_rankings = rankings.loc[(rankings['rank_date'] == rankings['rank_date'].max()) & \n",
        "                                    rankings['country_full'].isin(world_cup.index.unique())]\n",
        "world_cup_rankings = world_cup_rankings.set_index(['country_full'])\n"
      ],
      "execution_count": 0,
      "outputs": []
    },
    {
      "metadata": {
        "id": "mqj02YTsQf5H",
        "colab_type": "code",
        "colab": {
          "base_uri": "https://localhost:8080/",
          "height": 969
        },
        "outputId": "5556ce39-226d-4b2e-89c6-ed1cc5a23612"
      },
      "cell_type": "code",
      "source": [
        "from itertools import combinations\n",
        "\n",
        "opponents = ['First match \\nagainst', 'Second match\\n against', 'Third match\\n against']\n",
        "\n",
        "world_cup['points'] = 0\n",
        "world_cup['total_prob'] = 0\n",
        "\n",
        "for group in set(world_cup['Group']):\n",
        "    print('___Starting group {}:___'.format(group))\n",
        "    for home, away in combinations(world_cup.query('Group == \"{}\"'.format(group)).index, 2):\n",
        "        print(\"{} vs. {}: \".format(home, away), end='')\n",
        "        row = pd.DataFrame(np.array([[np.nan, np.nan, np.nan, True]]), columns=X_test.columns)\n",
        "        row['rank_home'] = world_cup_rankings.loc[home, 'rank']\n",
        "        home_points = world_cup_rankings.loc[home, 'weighted_points']\n",
        "        opp_rank = world_cup_rankings.loc[away, 'rank']\n",
        "        opp_points = world_cup_rankings.loc[away, 'weighted_points']\n",
        "        row['rank_difference'] = row['rank_home'] - opp_rank\n",
        "        row['point_difference'] = home_points - opp_points\n",
        "        \n",
        "        home_win_prob = model.predict_proba(row)[:,1][0]\n",
        "        world_cup.loc[home, 'total_prob'] += home_win_prob\n",
        "        world_cup.loc[away, 'total_prob'] += 1-home_win_prob\n",
        "        \n",
        "        points = 0\n",
        "        if home_win_prob <= 0.5 - margin:\n",
        "            print(\"{} wins with {:.2f}\".format(away, 1-home_win_prob))\n",
        "            world_cup.loc[away, 'points'] += 3\n",
        "        if home_win_prob > 0.5 - margin:\n",
        "            points = 1\n",
        "        if home_win_prob >= 0.5 + margin:\n",
        "            points = 3\n",
        "            world_cup.loc[home, 'points'] += 3\n",
        "            print(\"{} wins with {:.2f}\".format(home, home_win_prob))\n",
        "        if points == 1:\n",
        "            print(\"Draw\")\n",
        "            world_cup.loc[home, 'points'] += 1\n",
        "            world_cup.loc[away, 'points'] += 1"
      ],
      "execution_count": 25,
      "outputs": [
        {
          "output_type": "stream",
          "text": [
            "___Starting group B:___\n",
            "Portugal vs. Spain: Portugal wins with 0.54\n",
            "Portugal vs. Morocco: Portugal wins with 0.68\n",
            "Portugal vs. Iran: Portugal wins with 0.66\n",
            "Spain vs. Morocco: Spain wins with 0.65\n",
            "Spain vs. Iran: Spain wins with 0.63\n",
            "Morocco vs. Iran: Iran wins with 0.55\n",
            "___Starting group A:___\n",
            "Russia vs. Saudi Arabia: Saudi Arabia wins with 0.55\n",
            "Russia vs. Egypt: Egypt wins with 0.66\n",
            "Russia vs. Uruguay: Uruguay wins with 0.83\n",
            "Saudi Arabia vs. Egypt: Egypt wins with 0.65\n",
            "Saudi Arabia vs. Uruguay: Uruguay wins with 0.83\n",
            "Egypt vs. Uruguay: Uruguay wins with 0.74\n",
            "___Starting group E:___\n",
            "Brazil vs. Switzerland: Brazil wins with 0.53\n",
            "Brazil vs. Costa Rica: Brazil wins with 0.62\n",
            "Brazil vs. Serbia: Brazil wins with 0.67\n",
            "Switzerland vs. Costa Rica: Switzerland wins with 0.59\n",
            "Switzerland vs. Serbia: Switzerland wins with 0.64\n",
            "Costa Rica vs. Serbia: Costa Rica wins with 0.54\n",
            "___Starting group D:___\n",
            "Argentina vs. Iceland: Argentina wins with 0.60\n",
            "Argentina vs. Croatia: Argentina wins with 0.59\n",
            "Argentina vs. Nigeria: Argentina wins with 0.70\n",
            "Iceland vs. Croatia: Croatia wins with 0.53\n",
            "Iceland vs. Nigeria: Iceland wins with 0.62\n",
            "Croatia vs. Nigeria: Croatia wins with 0.63\n",
            "___Starting group C:___\n",
            "France vs. Australia: France wins with 0.65\n",
            "France vs. Peru: France wins with 0.52\n",
            "France vs. Denmark: France wins with 0.50\n",
            "Australia vs. Peru: Peru wins with 0.68\n",
            "Australia vs. Denmark: Denmark wins with 0.70\n",
            "Peru vs. Denmark: Denmark wins with 0.53\n",
            "___Starting group G:___\n",
            "Belgium vs. Panama: Belgium wins with 0.73\n",
            "Belgium vs. Tunisia: Belgium wins with 0.61\n",
            "Belgium vs. England: Belgium wins with 0.56\n",
            "Panama vs. Tunisia: Tunisia wins with 0.73\n",
            "Panama vs. England: England wins with 0.77\n",
            "Tunisia vs. England: England wins with 0.57\n",
            "___Starting group H:___\n",
            "Poland vs. Senegal: Poland wins with 0.60\n",
            "Poland vs. Colombia: Poland wins with 0.54\n",
            "Poland vs. Japan: Poland wins with 0.73\n",
            "Senegal vs. Colombia: Colombia wins with 0.59\n",
            "Senegal vs. Japan: Senegal wins with 0.65\n",
            "Colombia vs. Japan: Colombia wins with 0.70\n",
            "___Starting group F:___\n",
            "Germany vs. Mexico: Germany wins with 0.60\n",
            "Germany vs. Sweden: Germany wins with 0.63\n",
            "Germany vs. Korea Republic: Germany wins with 0.71\n",
            "Mexico vs. Sweden: Mexico wins with 0.54\n",
            "Mexico vs. Korea Republic: Mexico wins with 0.68\n",
            "Sweden vs. Korea Republic: Sweden wins with 0.64\n"
          ],
          "name": "stdout"
        }
      ]
    },
    {
      "metadata": {
        "id": "qxjdGi5jQslr",
        "colab_type": "code",
        "colab": {
          "base_uri": "https://localhost:8080/",
          "height": 476
        },
        "outputId": "2a0028e8-7381-44d5-e3a2-7aaf881fc3c3"
      },
      "cell_type": "code",
      "source": [
        "pairing = [0,3,4,7,8,11,12,15,1,2,5,6,9,10,13,14]\n",
        "\n",
        "world_cup = world_cup.sort_values(by=['Group', 'points', 'total_prob'], ascending=False).reset_index()\n",
        "next_round_wc = world_cup.groupby('Group').nth([0, 1]) # select the top 2\n",
        "next_round_wc = next_round_wc.reset_index()\n",
        "next_round_wc = next_round_wc.loc[pairing]\n",
        "next_round_wc = next_round_wc.set_index('Team')\n",
        "\n",
        "finals = ['round_of_16', 'quarterfinal', 'semifinal', 'final']\n",
        "\n",
        "labels = list()\n",
        "odds = list()\n",
        "\n",
        "for f in finals:\n",
        "    print(\"___Starting of the {}___\".format(f))\n",
        "    iterations = int(len(next_round_wc) / 2)\n",
        "    winners = []\n",
        "\n",
        "    for i in range(iterations):\n",
        "        home = next_round_wc.index[i*2]\n",
        "        away = next_round_wc.index[i*2+1]\n",
        "        print(\"{} vs. {}: \".format(home,\n",
        "                                   away), \n",
        "                                   end='')\n",
        "        row = pd.DataFrame(np.array([[np.nan, np.nan, np.nan, True]]), columns=X_test.columns)\n",
        "        row['rank_home'] = world_cup_rankings.loc[home, 'rank']\n",
        "        home_points = world_cup_rankings.loc[home, 'weighted_points']\n",
        "        opp_rank = world_cup_rankings.loc[away, 'rank']\n",
        "        opp_points = world_cup_rankings.loc[away, 'weighted_points']\n",
        "        row['rank_difference'] = row['rank_home'] - opp_rank\n",
        "        row['point_difference'] = home_points - opp_points\n",
        "\n",
        "        home_win_prob = model.predict_proba(row)[:,1][0]\n",
        "        if model.predict_proba(row)[:,1] <= 0.5:\n",
        "            print(\"{0} wins with probability {1:.2f}\".format(away, 1-home_win_prob))\n",
        "            winners.append(away)\n",
        "        else:\n",
        "            print(\"{0} wins with probability {1:.2f}\".format(home, home_win_prob))\n",
        "            winners.append(home)\n",
        "\n",
        "        labels.append(\"{}({:.2f}) vs. {}({:.2f})\".format(world_cup_rankings.loc[home, 'country_abrv'], \n",
        "                                                        1/home_win_prob, \n",
        "                                                        world_cup_rankings.loc[away, 'country_abrv'], \n",
        "                                                        1/(1-home_win_prob)))\n",
        "        odds.append([home_win_prob, 1-home_win_prob])\n",
        "                \n",
        "    next_round_wc = next_round_wc.loc[winners]\n",
        "    print(\"\\n\")"
      ],
      "execution_count": 26,
      "outputs": [
        {
          "output_type": "stream",
          "text": [
            "___Starting of the round_of_16___\n",
            "Uruguay vs. Spain: Spain wins with probability 0.54\n",
            "France vs. Croatia: France wins with probability 0.57\n",
            "Brazil vs. Mexico: Brazil wins with probability 0.58\n",
            "Belgium vs. Colombia: Belgium wins with probability 0.59\n",
            "Egypt vs. Portugal: Portugal wins with probability 0.81\n",
            "Denmark vs. Argentina: Argentina wins with probability 0.54\n",
            "Switzerland vs. Germany: Germany wins with probability 0.60\n",
            "England vs. Poland: Poland wins with probability 0.53\n",
            "\n",
            "\n",
            "___Starting of the quarterfinal___\n",
            "Spain vs. France: France wins with probability 0.52\n",
            "Brazil vs. Belgium: Belgium wins with probability 0.51\n",
            "Portugal vs. Argentina: Portugal wins with probability 0.51\n",
            "Germany vs. Poland: Germany wins with probability 0.57\n",
            "\n",
            "\n",
            "___Starting of the semifinal___\n",
            "France vs. Belgium: Belgium wins with probability 0.56\n",
            "Portugal vs. Germany: Germany wins with probability 0.56\n",
            "\n",
            "\n",
            "___Starting of the final___\n",
            "Belgium vs. Germany: Germany wins with probability 0.54\n",
            "\n",
            "\n"
          ],
          "name": "stdout"
        }
      ]
    },
    {
      "metadata": {
        "id": "Ub3TUhrRRteB",
        "colab_type": "code",
        "colab": {}
      },
      "cell_type": "code",
      "source": [
        "# https://pypi.python.org/pypi/pydot\n",
        "!apt-get -qq install -y graphviz && pip install -q pydot\n",
        "import pydot"
      ],
      "execution_count": 0,
      "outputs": []
    },
    {
      "metadata": {
        "id": "gleSsTtyQzOh",
        "colab_type": "code",
        "colab": {
          "base_uri": "https://localhost:8080/",
          "height": 634
        },
        "outputId": "981b7b4f-d26c-4bba-a5bf-06d5dc7d463e"
      },
      "cell_type": "code",
      "source": [
        "# diese Grafik habe ich von https://www.kaggle.com/agostontorok/soccer-world-cup-2018-winner übernommen\n",
        "\n",
        "import networkx as nx\n",
        "from networkx.drawing.nx_pydot import graphviz_layout\n",
        "\n",
        "node_sizes = pd.DataFrame(list(reversed(odds)))\n",
        "scale_factor = 0.3 # for visualization\n",
        "G = nx.balanced_tree(2, 3)\n",
        "pos = graphviz_layout(G, prog='twopi', args='')\n",
        "centre = pd.DataFrame(pos).mean(axis=1).mean()\n",
        "\n",
        "plt.figure(figsize=(10, 10))\n",
        "ax = plt.subplot(1,1,1)\n",
        "# add circles \n",
        "circle_positions = [(235, 'black'), (180, 'blue'), (120, 'red'), (60, 'yellow')]\n",
        "[ax.add_artist(plt.Circle((centre, centre), \n",
        "                          cp, color='grey', \n",
        "                          alpha=0.2)) for cp, c in circle_positions]\n",
        "\n",
        "# draw first the graph\n",
        "nx.draw(G, pos, \n",
        "        node_color=node_sizes.diff(axis=1)[1].abs().pow(scale_factor), \n",
        "        node_size=node_sizes.diff(axis=1)[1].abs().pow(scale_factor)*2000, \n",
        "        alpha=1, \n",
        "        cmap='Reds',\n",
        "        edge_color='black',\n",
        "        width=10,\n",
        "        with_labels=False)\n",
        "\n",
        "# draw the custom node labels\n",
        "shifted_pos = {k:[(v[0]-centre)*0.9+centre,(v[1]-centre)*0.9+centre] for k,v in pos.items()}\n",
        "nx.draw_networkx_labels(G, \n",
        "                        pos=shifted_pos, \n",
        "                        bbox=dict(boxstyle=\"round,pad=0.3\", fc=\"white\", ec=\"black\", lw=.5, alpha=1),\n",
        "                        labels=dict(zip(reversed(range(len(labels))), labels)))\n",
        "\n",
        "texts = ((10, 'Best 16', 'black'), (70, 'Quarter-\\nfinal', 'blue'), (130, 'Semifinal', 'red'), (190, 'Final', 'yellow'))\n",
        "[plt.text(p, centre+20, t, \n",
        "          fontsize=12, color='grey', \n",
        "          va='center', ha='center') for p,t,c in texts]\n",
        "plt.axis('equal')\n",
        "plt.title('Single-elimination phase\\npredictions with fair odds', fontsize=20)\n",
        "plt.show()"
      ],
      "execution_count": 28,
      "outputs": [
        {
          "output_type": "display_data",
          "data": {
            "image/png": "[encoded data removed]",
            "text/plain": [
              "<matplotlib.figure.Figure at 0x7f05d01e2fd0>"
            ]
          },
          "metadata": {
            "tags": []
          }
        }
      ]
    },
    {
      "metadata": {
        "id": "7GXgg8_9xw5-",
        "colab_type": "text"
      },
      "cell_type": "markdown",
      "source": [
        "# Zusammenfassung\n",
        "\n",
        "Dies ist ein gutes Beispiel, wie man mit einfachen Mitteln (Regression) schon relative gute Ergebnisse bekommen kann. Zumindest deutlich besser als der Zufall. \n",
        "\n",
        "Auf der [Odd Checker Seite](https://www.oddschecker.com/football/world-cup/winner) könnten wir nun vergleichen wie die Meinung ist im Vergleich zu unserem Model.\n",
        "\n",
        "Wer ein bisschen Zeit hat könnte...\n",
        "\n",
        "- die Features normalisieren um zu sehen ob dies einen Einfluss hat\n",
        "- [Cross Validation](http://scikit-learn.org/stable/modules/cross_validation.html) implentieren \n",
        "- zusätzliche Features ableiten\n",
        "\n",
        "Wenn die Zeit reicht werde ich versuchen noch zusätzliche Daten aufzutreiben."
      ]
    }
  ]
}