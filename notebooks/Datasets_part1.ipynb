{
 "cells": [
  {
   "cell_type": "markdown",
   "metadata": {},
   "source": [
    "# Part 1: Explorative Datenanalyse\n",
    "\n",
    "Ix und Px haben ja eine Tippgruppe bei www.srf.ch . Persönlich bin ich ja nicht der grösste Fussballfan. Dennoch dachte ich, mir es wäre eine gute Gelegenheit das Verständnis für Data Science und auch die \"Lust\" auf Data Science bei Inventx zu schüren :-)  Natürlich wäre es auch super wenn unser Tippgruppe die beste wäre. In den folgenden Posts werde ich immer mal verschiedene Fakten und Statistiken aufzeigen, die uns als Team helfen sollen unsere Vorhersagen zu stärken. Im ersten Teil geht es um Data Exploration. Dabei werde ich mal die Daten analysieren die ich so gefunden habe. Wenn ihr noch mehr Daten habt oder gute Webseiten kennt, welche man mit Webscrapern abgrasen kann. Lasst es mich wissen."
   ]
  },
  {
   "cell_type": "code",
   "execution_count": null,
   "metadata": {},
   "outputs": [],
   "source": []
  }
 ],
 "metadata": {
  "kernelspec": {
   "display_name": "Python 3",
   "language": "python",
   "name": "python3"
  },
  "language_info": {
   "codemirror_mode": {
    "name": "ipython",
    "version": 3
   },
   "file_extension": ".py",
   "mimetype": "text/x-python",
   "name": "python",
   "nbconvert_exporter": "python",
   "pygments_lexer": "ipython3",
   "version": "3.6.5"
  }
 },
 "nbformat": 4,
 "nbformat_minor": 2
}
